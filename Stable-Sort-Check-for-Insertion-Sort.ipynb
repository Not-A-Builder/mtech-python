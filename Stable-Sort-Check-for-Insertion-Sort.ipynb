{
 "cells": [
  {
   "cell_type": "markdown",
   "metadata": {},
   "source": [
    "### Insertion sort"
   ]
  },
  {
   "cell_type": "code",
   "execution_count": 1,
   "metadata": {},
   "outputs": [
    {
     "name": "stdout",
     "output_type": "stream",
     "text": [
      "Sorted array is:\n",
      "11 12 22 25 34 64 90 "
     ]
    }
   ],
   "source": [
    "a = [64, 34, 25, 12, 22, 11, 90] \n",
    "    \n",
    "def Insertion_Sort(a): \n",
    "    for i in range(1, len(a)): \n",
    "        temp=a[i] \n",
    "        j = i-1\n",
    "        while j >=0 and temp < a[j] : \n",
    "                a[j+1] = a[j] \n",
    "                j -= 1\n",
    "        a[j+1] = temp\n",
    "        \n",
    "Insertion_Sort(a)\n",
    "\n",
    "print (\"Sorted array is:\") \n",
    "for i in range(len(a)): \n",
    "    print (a[i], end=\" \")"
   ]
  },
  {
   "cell_type": "markdown",
   "metadata": {},
   "source": [
    "### Quick Sort"
   ]
  },
  {
   "cell_type": "code",
   "execution_count": 2,
   "metadata": {
    "scrolled": true
   },
   "outputs": [
    {
     "name": "stdout",
     "output_type": "stream",
     "text": [
      "Sorted array is:\n",
      "4 10 77 88 99 201 535 921 "
     ]
    }
   ],
   "source": [
    "a = [10, 77, 88, 99, 201, 4, 921, 535] \n",
    "n=len(a)\n",
    "    \n",
    "def partition(a,low,high): \n",
    "    i = (low-1)\n",
    "    pivot = a[high]\n",
    "    for j in range(low , high): \n",
    "        if   a[j] <= pivot: \n",
    "            i = i+1 \n",
    "            a[i],a[j] = a[j],a[i] \n",
    "  \n",
    "    a[i+1],a[high] = a[high],a[i+1] \n",
    "    return(i+1) \n",
    "\n",
    "def Quick_Sort(a,low,high): \n",
    "    if low < high:\n",
    "        p = partition(a,low,high) \n",
    "        Quick_Sort(a, low, p-1) \n",
    "        Quick_Sort(a, p+1, high) \n",
    "        \n",
    "\n",
    "Quick_Sort(a,0,n-1)\n",
    "\n",
    "print (\"Sorted array is:\") \n",
    "for i in range(len(a)): \n",
    "    print (a[i], end=\" \")"
   ]
  },
  {
   "cell_type": "markdown",
   "metadata": {},
   "source": [
    "### Stable check - Insertion sort"
   ]
  },
  {
   "cell_type": "code",
   "execution_count": 48,
   "metadata": {},
   "outputs": [
    {
     "name": "stdout",
     "output_type": "stream",
     "text": [
      "Unsorted array and frequency of elements:\n",
      "[6, 2, 4, 2, 1, 9, 8, 5, 1, 1]\n",
      "[1, 1, 1, 2, 1, 1, 1, 1, 2, 3]\n",
      " \n",
      "Sorted array and frequency of elements:\n",
      "[1, 1, 1, 2, 2, 4, 5, 6, 8, 9]\n",
      "[1, 2, 3, 1, 2, 1, 1, 1, 1, 1]\n"
     ]
    }
   ],
   "source": [
    "a = [6, 2, 4, 2, 1, 9, 8, 5, 1, 1]\n",
    "\n",
    "traversed = []\n",
    "freq_us=[0,0,0,0,0,0,0,0,0,0]   #initialising frequency list with 0 values\n",
    "\n",
    "#-----\n",
    "#frequency-check\n",
    "for i in range(0, 10):   #traversing the original array\n",
    "    temp = a[i]   \n",
    "    traversed.append(temp)   #adding each visited element to traversed\n",
    "    count=0   \n",
    "    for j in range(len(traversed)):\n",
    "        if temp==traversed[j]:\n",
    "            count=count+1   #checking count of the visited element in traversed\n",
    "    freq_us[i]=count   #designating appearance frequency of element to its frequency position\n",
    "\n",
    "print(\"Unsorted array and frequency of elements:\")\n",
    "print(a)\n",
    "print(freq_us)\n",
    "\n",
    "freq_s=freq_us.copy()   #making a copy of the unsorted frequency list to frequency list with sorted values\n",
    "\n",
    "\n",
    "#-----\n",
    "#insertion sort along with swapping of frequency values\n",
    "for i in range(1, len(a)): \n",
    "    temp=a[i] \n",
    "    temp_f=freq_s[i]\n",
    "    j = i-1\n",
    "    while j >=0 and temp < a[j] : \n",
    "        a[j+1] = a[j] \n",
    "        freq_s[j+1]=freq_s[j]\n",
    "        j -= 1\n",
    "    a[j+1] = temp\n",
    "    freq_s[j+1]=temp_f\n",
    "\n",
    "print(\" \")\n",
    "print(\"Sorted array and frequency of elements:\")\n",
    "print(a)\n",
    "print(freq_s)"
   ]
  },
  {
   "cell_type": "code",
   "execution_count": 129,
   "metadata": {},
   "outputs": [
    {
     "name": "stdout",
     "output_type": "stream",
     "text": [
      "Unsorted array and frequency of elements:\n",
      "[6, 2, 4, 2, 1, 9, 8, 5, 1, 1]\n",
      "[1, 1, 1, 2, 1, 1, 1, 1, 2, 3]\n",
      " \n",
      "Sorted array and frequency of elements:\n",
      "[1, 1, 1, 2, 2, 4, 5, 6, 8, 9]\n",
      "[1, 2, 3, 1, 2, 1, 1, 1, 1, 1]\n",
      "\n",
      "Stable\n"
     ]
    }
   ],
   "source": [
    "a = [6, 2, 4, 2, 1, 9, 8, 5, 1, 1]\n",
    "\n",
    "traversed = []\n",
    "freq_us=[0,0,0,0,0,0,0,0,0,0]   #initialising frequency list with 0 values\n",
    "\n",
    "#------------------\n",
    "#frequency-check\n",
    "#------------------\n",
    "\n",
    "for i in range(0, 10):   #traversing the original array\n",
    "    temp = a[i]   \n",
    "    traversed.append(temp)   #adding each visited element to traversed\n",
    "    count=0   \n",
    "    for j in range(len(traversed)):\n",
    "        if temp==traversed[j]:\n",
    "            count=count+1   #checking count of the visited element in traversed\n",
    "    freq_us[i]=count   #designating appearance frequency of element to its frequency position\n",
    "\n",
    "print(\"Unsorted array and frequency of elements:\")\n",
    "print(a)\n",
    "print(freq_us)\n",
    "\n",
    "freq_s=freq_us.copy()   #making a copy of the unsorted frequency list to frequency list with sorted values\n",
    "\n",
    "\n",
    "#------------------------------------------------------------\n",
    "#insertion sort along with swapping of frequency values\n",
    "#------------------------------------------------------------\n",
    "\n",
    "for i in range(1, len(a)): \n",
    "    temp=a[i] \n",
    "    temp_f=freq_s[i]\n",
    "    j = i-1\n",
    "    while j >=0 and temp < a[j] : \n",
    "        a[j+1] = a[j] \n",
    "        freq_s[j+1]=freq_s[j]\n",
    "        j -= 1\n",
    "    a[j+1] = temp\n",
    "    freq_s[j+1]=temp_f\n",
    "\n",
    "print(\" \")\n",
    "print(\"Sorted array and frequency of elements:\")\n",
    "print(a)\n",
    "print(freq_s)\n",
    "\n",
    "#---------------------\n",
    "#stability-check now\n",
    "#---------------------\n",
    "\n",
    "main_flag=0   #counts the number of times frequencies have deviated from ascending order\n",
    "\n",
    "for i in range(len(a)-1):   #traversing the length of the lsit-1\n",
    "    key=a[i]\n",
    "    freq_s_temp=[]   #temp list for storing frequencies of each unique sorted-list-element\n",
    "    t.append(key)   #adding each key to the list t that contains each element being traversed\n",
    "    if a[i]==a[i+1]:   #checking for occurrence of same element in the sorted list\n",
    "        count=0   \n",
    "        for k in range(len(t)):   \n",
    "            if key==t[k]:   #checking if traversed list contains key\n",
    "                count=count+1   \n",
    "        if count==1:   #this means it has been visited for the first time, more than 1 means we have already check frequency of this value         \n",
    "            for j in range(i, len(a)):\n",
    "                if key==a[j]:\n",
    "                    b2.append(freq_s[j])   #creating sub_list of each unique sorted-list-element\n",
    "                                    \n",
    "                desc=0   #checking for ascending order in each sub_list\n",
    "                for m in range(len(b2)-1):\n",
    "                    if b2[m]>b2[m+1]:\n",
    "                        desc=desc+1\n",
    "                if desc!=0:   #if any frequency-sub-list has the elements in descending order -> unstability\n",
    "                    main_flag=main_flag+1\n",
    "\n",
    "print()\n",
    "if main_flag==0:   #all frequency sub-lists are in ascending order\n",
    "    print(\"Stable\")\n",
    "else:\n",
    "    print(\"Unstable\")"
   ]
  },
  {
   "cell_type": "code",
   "execution_count": 45,
   "metadata": {},
   "outputs": [
    {
     "name": "stdout",
     "output_type": "stream",
     "text": [
      "[64, 34, 25, 12, 11, 12, 90]\n",
      "[1, 1, 1, 1, 1, 2, 1]\n",
      " \n",
      "Sorted array is:\n",
      "[11, 12, 12, 25, 34, 64, 90]\n",
      "[1, 1, 2, 1, 1, 1, 1]\n"
     ]
    }
   ],
   "source": [
    "#frequency-sorting-insertion-sort\n",
    "\n",
    "a = [64, 34, 25, 12, 11, 12, 90] \n",
    "b = [1, 1, 1, 1, 1, 2, 1]\n",
    "print(a)\n",
    "print(b)\n",
    "print(\" \")\n",
    "print (\"Sorted array is:\") \n",
    "\n",
    "for i in range(1, len(a)): \n",
    "    temp=a[i] \n",
    "    temp2=b[i]\n",
    "    j = i-1\n",
    "    while j >=0 and temp < a[j] : \n",
    "        a[j+1] = a[j]\n",
    "        b[j+1] = b[j]\n",
    "        j -= 1\n",
    "    a[j+1] = temp\n",
    "    b[j+1] = temp2\n",
    "    \n",
    "print(a)\n",
    "print(b)"
   ]
  },
  {
   "cell_type": "code",
   "execution_count": 31,
   "metadata": {},
   "outputs": [
    {
     "name": "stdout",
     "output_type": "stream",
     "text": [
      "[6, 2, 4, 2, 1, 9, 8, 5, 1, 1]\n",
      "[1, 1, 1, 2, 1, 1, 1, 1, 2, 3]\n"
     ]
    }
   ],
   "source": [
    "#frequency-check\n",
    "\n",
    "a = [6, 2, 4, 2, 1, 9, 8, 5, 1, 1]\n",
    "traversed = []\n",
    "#my_list.append(int(input())) <-adding to list\n",
    "freq=[0,0,0,0,0,0,0,0,0,0]\n",
    "\n",
    "for i in range(0, 10):   #traversing the original array\n",
    "    temp = a[i]   \n",
    "    traversed.append(temp)   #adding each visited element to traversed\n",
    "    count=0   \n",
    "    for j in range(len(traversed)):\n",
    "        if temp==traversed[j]:\n",
    "            count=count+1   #checking count of the visited element in traversed\n",
    "    freq[i]=count   #designating appearance frequency of element to its frequency position\n",
    "    \n",
    "print(a)\n",
    "print(freq)"
   ]
  },
  {
   "cell_type": "code",
   "execution_count": 23,
   "metadata": {},
   "outputs": [
    {
     "name": "stdout",
     "output_type": "stream",
     "text": [
      "Occurrence of  6 = 1\n",
      "Occurrence of  2 = 2\n",
      "Occurrence of  4 = 1\n",
      "Occurrence of  2 = 2\n",
      "Occurrence of  1 = 2\n",
      "Occurrence of  9 = 1\n",
      "Occurrence of  8 = 1\n",
      "Occurrence of  5 = 1\n",
      "Occurrence of  1 = 2\n",
      "Occurrence of  7 = 1\n"
     ]
    }
   ],
   "source": [
    "#occurrence-check\n",
    "\n",
    "a = [6, 2, 4, 2, 1, 9, 8, 5, 1, 7]\n",
    "#f=[0,0,0,0,0,0,0,0,0,0]\n",
    "\n",
    "for i in range(0,10):\n",
    "    temp = a[i]\n",
    "    print(\"Occurrence of \", a[i], \"=\", end=\" \")\n",
    "    count = 0\n",
    "    for j in range(0,10):\n",
    "        if temp==a[j]:\n",
    "            count=count+1\n",
    "    print(count)"
   ]
  },
  {
   "cell_type": "code",
   "execution_count": 123,
   "metadata": {},
   "outputs": [
    {
     "name": "stdout",
     "output_type": "stream",
     "text": [
      "1 2 \n",
      "1 2 3 \n",
      "1 2 \n"
     ]
    }
   ],
   "source": [
    "#printing each sub-list\n",
    "\n",
    "a=[3,3,4,5,6,6,6,8,9,9]\n",
    "b=[1,2,1,1,1,2,3,1,1,2]\n",
    "t=[]\n",
    "\n",
    "for i in range(len(a)-1):   #traversing the length of the lsit-1\n",
    "    key=a[i]\n",
    "    t.append(key)   #adding each key to the list t that contains each element being traversed\n",
    "    if a[i]==a[i+1]:   #checking for occurrence of same element in the sorted list\n",
    "        count=0   \n",
    "        for k in range(len(t)):   \n",
    "            if key==t[k]:   #checking if traversed list contains key\n",
    "                count=count+1   \n",
    "        if count==1:   #this means it has been visited for the first time, more than 1 means we have already check frequency of this value         \n",
    "            for j in range(i, len(a)):\n",
    "                if key==a[j]:\n",
    "                    print(b[j], end=\" \")\n",
    "            print()"
   ]
  },
  {
   "cell_type": "code",
   "execution_count": 122,
   "metadata": {},
   "outputs": [
    {
     "name": "stdout",
     "output_type": "stream",
     "text": [
      "Stable\n"
     ]
    }
   ],
   "source": [
    "#stability-check\n",
    "\n",
    "a=[3,3,4,5,6,6,6,8,9,9]\n",
    "b=[1,2,1,1,1,2,3,1,1,2]\n",
    "t=[]\n",
    "main_flag=0\n",
    "\n",
    "for i in range(len(a)-1):   #traversing the length of the lsit-1\n",
    "    key=a[i]\n",
    "    b2=[]   #temp list for storing frequencies of each unique sorted-list-element\n",
    "    t.append(key)   #adding each key to the list t that contains each element being traversed\n",
    "    if a[i]==a[i+1]:   #checking for occurrence of same element in the sorted list\n",
    "        count=0   \n",
    "        for k in range(len(t)):   \n",
    "            if key==t[k]:   #checking if traversed list contains key\n",
    "                count=count+1   \n",
    "        if count==1:   #this means it has been visited for the first time, more than 1 means we have already check frequency of this value         \n",
    "            for j in range(i, len(a)):\n",
    "                if key==a[j]:\n",
    "                    b2.append(b[j])   #creating sub_list of each unique sorted-list-element\n",
    "                    #print(b[j], end=\" \")\n",
    "                #print(b2, end=\" \")   #printing the sub_lists created\n",
    "                \n",
    "                desc=0   #checking for ascending order in each sub_list\n",
    "                for m in range(len(b2)-1):\n",
    "                    if b2[m]>b2[m+1]:\n",
    "                        desc=desc+1\n",
    "                if desc!=0:\n",
    "                    main_flag=main_flag+1\n",
    "                \n",
    "            #print()\n",
    "            \n",
    "if main_flag==0:\n",
    "    print(\"Stable\")\n",
    "else:\n",
    "    print(\"Unstable\")"
   ]
  },
  {
   "cell_type": "code",
   "execution_count": 38,
   "metadata": {
    "scrolled": false
   },
   "outputs": [
    {
     "name": "stdout",
     "output_type": "stream",
     "text": [
      "Enter number of elements : 5\n",
      "1\n",
      "2\n",
      "3\n",
      "4\n",
      "5\n",
      "[1, 2, 3, 4, 5]\n",
      "[1, 2, 3, 4, 5]\n"
     ]
    }
   ],
   "source": [
    "lst = [] \n",
    "  \n",
    "# number of elemetns as input \n",
    "n = int(input(\"Enter number of elements : \")) \n",
    "  \n",
    "# iterating till the range \n",
    "for i in range(0, n): \n",
    "    ele = int(input()) \n",
    "  \n",
    "    lst.append(ele) # adding the element \n",
    "      \n",
    "print(lst) \n",
    "\n",
    "a=lst.copy()\n",
    "print(a)"
   ]
  }
 ],
 "metadata": {
  "kernelspec": {
   "display_name": "Python 3",
   "language": "python",
   "name": "python3"
  },
  "language_info": {
   "codemirror_mode": {
    "name": "ipython",
    "version": 3
   },
   "file_extension": ".py",
   "mimetype": "text/x-python",
   "name": "python",
   "nbconvert_exporter": "python",
   "pygments_lexer": "ipython3",
   "version": "3.8.0"
  }
 },
 "nbformat": 4,
 "nbformat_minor": 2
}
