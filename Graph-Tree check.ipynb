{
 "cells": [
  {
   "cell_type": "markdown",
   "metadata": {},
   "source": [
    "# Check if a user-input graph is a tree.\n",
    "\n",
    "---\n",
    "\n",
    "## Graph\n",
    "\n",
    "A set of finite vertices and a set of finite edges connecting the vertices\n",
    "\n",
    "#### Connected Graph:\n",
    "A graph in which there is a path joining each pair of vertices, the graph being undirected. It is always possible to travel in a connected graph between one vertex and any other; no vertex is isolated. If a graph is not connected it will consist of several components, each of which is connected; such a graph is said to be disconnected.\n",
    "\n",
    "#### Cyclic Graph:\n",
    "A cycle in a graph is a non-empty trail in which the only repeated vertices are the first and last vertices. A directed cycle in a directed graph is a non-empty directed trail in which the only repeated are the first and last vertices.\n",
    "\n",
    "A graph without cycles is called an acyclic graph. A directed graph without directed cycles is called a directed acyclic graph. A connected graph without cycles is called a tree.\n",
    "\n",
    "#### Directed Graph:\n",
    "Edges have a direction from one vertex to another\n",
    "\n",
    "---\n",
    "\n",
    "## Tree\n",
    "\n",
    "A connected, acyclic, undirected graph is a tree"
   ]
  },
  {
   "cell_type": "code",
   "execution_count": 4,
   "metadata": {},
   "outputs": [],
   "source": [
    "import numpy"
   ]
  },
  {
   "cell_type": "code",
   "execution_count": 38,
   "metadata": {},
   "outputs": [
    {
     "name": "stdout",
     "output_type": "stream",
     "text": [
      "Enter the number of vertices:3\n",
      "Enter the elements of the adjacency matrix row-wise:\n",
      "0\n",
      "1\n",
      "1\n",
      "1\n",
      "0\n",
      "1\n",
      "1\n",
      "1\n",
      "0\n",
      "Adjacency matrix:\n",
      "[0, 1, 1]\n",
      "[1, 0, 1]\n",
      "[1, 1, 0]\n",
      "\n",
      "Undirected Graph\n"
     ]
    }
   ],
   "source": [
    "# Check if graph is directed or not\n",
    "# undirected graph -> transpose of adjacency matrix is same as adjacency matrix\n",
    "\n",
    "\n",
    "# USER INPUT -> ADJACENCY MATRIX\n",
    "\n",
    "\n",
    "V = int(input(\"Enter the number of vertices:\")) \n",
    "\n",
    "am = []   # adjacency matrix\n",
    "print(\"Enter the elements of the adjacency matrix row-wise:\") \n",
    "for i in range(V):          # loop for row entries \n",
    "    temp = [] \n",
    "    for j in range(V):      # loop for column entries \n",
    "         temp.append(int(input())) \n",
    "    am.append(temp)\n",
    "\n",
    "print(\"Adjacency matrix:\")\n",
    "for row in am:\n",
    "    print(row)\n",
    "print()\n",
    "\n",
    "\n",
    "# DIRECTED OR NOT\n",
    "\n",
    "\n",
    "def isDirected(a):\n",
    "    t = numpy.transpose(a)   # transpose of matrix\n",
    "    if areSame(a, t)==1:\n",
    "        return 1   # undirected (matrix = transpose)\n",
    "    elif areSame(a, t)==0:\n",
    "        return 0   # directed (matrix != transpose)\n",
    "    \n",
    "def areSame(a, b):\n",
    "    for i in range(V): \n",
    "        for j in range(V): \n",
    "            if (a[i][j] != b[i][j]): \n",
    "                return 0   # transpose != matrix\n",
    "    return 1   # transpose == matrix\n",
    "\n",
    "if isDirected(am)==1:\n",
    "    print(\"Undirected Graph\")\n",
    "else:\n",
    "    print(\"Directed Graph\")"
   ]
  },
  {
   "cell_type": "code",
   "execution_count": 2,
   "metadata": {},
   "outputs": [],
   "source": [
    "# Check if graph is cyclic or acyclic\n",
    "# use bfs/dfs\n",
    "\n"
   ]
  },
  {
   "cell_type": "code",
   "execution_count": 3,
   "metadata": {},
   "outputs": [],
   "source": [
    "# Check if graph is connected\n",
    "# bfs/dfs from any vertex and check if all vertices are covered \n",
    "\n"
   ]
  },
  {
   "cell_type": "code",
   "execution_count": null,
   "metadata": {},
   "outputs": [],
   "source": []
  },
  {
   "cell_type": "code",
   "execution_count": 19,
   "metadata": {},
   "outputs": [
    {
     "name": "stdout",
     "output_type": "stream",
     "text": [
      "Enter the number of vertices:3\n",
      "Enter the entries row wise:\n",
      "0\n",
      "1\n",
      "1\n",
      "1\n",
      "0\n",
      "1\n",
      "1\n",
      "1\n",
      "0\n",
      "[0, 1, 1]\n",
      "[1, 0, 1]\n",
      "[1, 1, 0]\n",
      "[[0 1 1]\n",
      " [1 0 1]\n",
      " [1 1 0]]\n",
      "\n",
      "Matrix = transpose\n"
     ]
    }
   ],
   "source": [
    "# matrix - transpose equality check\n",
    "\n",
    "V = int(input(\"Enter the number of vertices:\")) \n",
    "\n",
    "am = [] \n",
    "print(\"Enter the entries row wise:\") \n",
    "\n",
    "for i in range(V):          # loop for row entries \n",
    "    a = [] \n",
    "    for j in range(V):      # loop for column entries \n",
    "         a.append(int(input())) \n",
    "    am.append(a)\n",
    "\n",
    "for row in am:\n",
    "    print(row)\n",
    "    \n",
    "tam = numpy.transpose(am)\n",
    "print(tam)\n",
    "print()\n",
    "\n",
    "def areSame(a, b):\n",
    "    for i in range(V): \n",
    "        for j in range(V): \n",
    "            if (a[i][j] != b[i][j]): \n",
    "                return 0\n",
    "    return 1\n",
    "\n",
    "if areSame(am,tam)==1:\n",
    "    print(\"Matrix = transpose\")\n",
    "else:\n",
    "    print(\"Matrix != transpose\")"
   ]
  },
  {
   "cell_type": "code",
   "execution_count": 3,
   "metadata": {},
   "outputs": [
    {
     "name": "stdout",
     "output_type": "stream",
     "text": [
      "Enter the number of vertices:3\n",
      "Enter the entries row wise:\n",
      "0\n",
      "1\n",
      "1\n",
      "1\n",
      "0\n",
      "1\n",
      "1\n",
      "1\n",
      "0\n",
      "[0, 1, 1]\n",
      "[1, 0, 1]\n",
      "[1, 1, 0]\n"
     ]
    }
   ],
   "source": [
    "# User input adjacency matrix\n",
    "\n",
    "V = int(input(\"Enter the number of vertices:\")) \n",
    "\n",
    "am = [] \n",
    "print(\"Enter the entries row wise:\") \n",
    "\n",
    "for i in range(V):          # loop for row entries \n",
    "    a = [] \n",
    "    for j in range(V):      # loop for column entries \n",
    "         a.append(int(input())) \n",
    "    am.append(a)\n",
    "\n",
    "for row in am:\n",
    "    print(row)"
   ]
  },
  {
   "cell_type": "code",
   "execution_count": 12,
   "metadata": {},
   "outputs": [
    {
     "name": "stdout",
     "output_type": "stream",
     "text": [
      "[0, 0, 0, 0, 0]\n",
      "[0, 0, 0, 0, 0]\n",
      "[0, 0, 0, 0, 0]\n",
      "[0, 0, 0, 0, 0]\n",
      "[0, 0, 0, 0, 0]\n"
     ]
    }
   ],
   "source": [
    "# 2D array representation\n",
    "\n",
    "rows, cols = (5, 5) \n",
    "\n",
    "arr = [[0 for i in range(cols)] for j in range(rows)]\n",
    "  \n",
    "for row in arr: \n",
    "    print(row) \n"
   ]
  },
  {
   "cell_type": "code",
   "execution_count": 1,
   "metadata": {},
   "outputs": [
    {
     "name": "stdout",
     "output_type": "stream",
     "text": [
      "Enter the number of rows:3\n",
      "Enter the number of columns:2\n",
      "Enter the entries rowwise:\n",
      "1\n",
      "2\n",
      "3\n",
      "4\n",
      "5\n",
      "6\n",
      "1 2 \n",
      "3 4 \n",
      "5 6 \n"
     ]
    }
   ],
   "source": [
    "# A basic code for matrix input from user \n",
    "  \n",
    "R = int(input(\"Enter the number of rows:\")) \n",
    "C = int(input(\"Enter the number of columns:\")) \n",
    "  \n",
    "# Initialize matrix \n",
    "matrix = [] \n",
    "print(\"Enter the entries rowwise:\") \n",
    "  \n",
    "# For user input \n",
    "for i in range(R):          # A for loop for row entries \n",
    "    a =[] \n",
    "    for j in range(C):      # A for loop for column entries \n",
    "         a.append(int(input())) \n",
    "    matrix.append(a) \n",
    "  \n",
    "# For printing the matrix \n",
    "for i in range(R): \n",
    "    for j in range(C): \n",
    "        print(matrix[i][j], end = \" \") \n",
    "    print() "
   ]
  },
  {
   "cell_type": "code",
   "execution_count": 7,
   "metadata": {},
   "outputs": [
    {
     "name": "stdout",
     "output_type": "stream",
     "text": [
      "[1, 2, 3]\n",
      "[4, 5, 6]\n",
      "\n",
      "\n",
      "[[1 4]\n",
      " [2 5]\n",
      " [3 6]]\n"
     ]
    }
   ],
   "source": [
    "matrix=[[1,2,3],\n",
    "            [4,5,6]] \n",
    "\n",
    "for row in matrix:\n",
    "    print(row)\n",
    "\n",
    "print(\"\\n\") \n",
    "print(numpy.transpose(matrix)) "
   ]
  },
  {
   "cell_type": "code",
   "execution_count": null,
   "metadata": {},
   "outputs": [],
   "source": []
  }
 ],
 "metadata": {
  "kernelspec": {
   "display_name": "Python 3",
   "language": "python",
   "name": "python3"
  },
  "language_info": {
   "codemirror_mode": {
    "name": "ipython",
    "version": 3
   },
   "file_extension": ".py",
   "mimetype": "text/x-python",
   "name": "python",
   "nbconvert_exporter": "python",
   "pygments_lexer": "ipython3",
   "version": "3.8.0"
  }
 },
 "nbformat": 4,
 "nbformat_minor": 2
}
