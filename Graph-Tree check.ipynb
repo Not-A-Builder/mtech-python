{
 "cells": [
  {
   "cell_type": "markdown",
   "metadata": {},
   "source": [
    "# Check if a user-input graph is a tree.\n",
    "\n",
    "---\n",
    "\n",
    "## Graph\n",
    "\n",
    "A set of finite vertices and a set of finite edges connecting the vertices\n",
    "\n",
    "#### Connected Graph:\n",
    "A graph in which there is a path joining each pair of vertices, the graph being undirected. It is always possible to travel in a connected graph between one vertex and any other; no vertex is isolated. If a graph is not connected it will consist of several components, each of which is connected; such a graph is said to be disconnected.\n",
    "\n",
    "#### Cyclic Graph:\n",
    "A cycle in a graph is a non-empty trail in which the only repeated vertices are the first and last vertices. A directed cycle in a directed graph is a non-empty directed trail in which the only repeated are the first and last vertices.\n",
    "\n",
    "A graph without cycles is called an acyclic graph. A directed graph without directed cycles is called a directed acyclic graph. A connected graph without cycles is called a tree.\n",
    "\n",
    "#### Directed Graph:\n",
    "Edges have a direction from one vertex to another\n",
    "\n",
    "---\n",
    "\n",
    "## Tree\n",
    "\n",
    "A connected, acyclic, undirected graph is a tree"
   ]
  },
  {
   "cell_type": "code",
   "execution_count": 1,
   "metadata": {},
   "outputs": [],
   "source": [
    "# Check if graph is directed or not\n",
    "# undirected graph -> transpose of adjacency matrix is same as adjacency matrix\n",
    "\n"
   ]
  },
  {
   "cell_type": "code",
   "execution_count": 2,
   "metadata": {},
   "outputs": [],
   "source": [
    "# Check if graph is cyclic or acyclic\n",
    "# use bfs/dfs\n",
    "\n"
   ]
  },
  {
   "cell_type": "code",
   "execution_count": 3,
   "metadata": {},
   "outputs": [],
   "source": [
    "# Check if graph is connected\n",
    "# bfs/dfs from any vertex and check if all vertices are covered \n",
    "\n"
   ]
  },
  {
   "cell_type": "code",
   "execution_count": null,
   "metadata": {},
   "outputs": [],
   "source": []
  },
  {
   "cell_type": "code",
   "execution_count": 12,
   "metadata": {},
   "outputs": [
    {
     "name": "stdout",
     "output_type": "stream",
     "text": [
      "[0, 0, 0, 0, 0]\n",
      "[0, 0, 0, 0, 0]\n",
      "[0, 0, 0, 0, 0]\n",
      "[0, 0, 0, 0, 0]\n",
      "[0, 0, 0, 0, 0]\n"
     ]
    }
   ],
   "source": [
    "# 2D array representation\n",
    "\n",
    "rows, cols = (5, 5) \n",
    "\n",
    "arr = [[0 for i in range(cols)] for j in range(rows)]\n",
    "  \n",
    "for row in arr: \n",
    "    print(row) \n"
   ]
  }
 ],
 "metadata": {
  "kernelspec": {
   "display_name": "Python 3",
   "language": "python",
   "name": "python3"
  },
  "language_info": {
   "codemirror_mode": {
    "name": "ipython",
    "version": 3
   },
   "file_extension": ".py",
   "mimetype": "text/x-python",
   "name": "python",
   "nbconvert_exporter": "python",
   "pygments_lexer": "ipython3",
   "version": "3.8.0"
  }
 },
 "nbformat": 4,
 "nbformat_minor": 2
}
