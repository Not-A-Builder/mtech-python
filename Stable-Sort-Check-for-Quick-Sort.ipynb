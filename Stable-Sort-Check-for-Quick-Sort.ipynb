{
 "cells": [
  {
   "cell_type": "markdown",
   "metadata": {},
   "source": [
    "### Quick Sort"
   ]
  },
  {
   "cell_type": "code",
   "execution_count": 1,
   "metadata": {
    "scrolled": true
   },
   "outputs": [
    {
     "name": "stdout",
     "output_type": "stream",
     "text": [
      "Sorted array is:\n",
      "1 1 1 2 2 4 5 6 8 9 "
     ]
    }
   ],
   "source": [
    "a = [6, 2, 4, 2, 1, 9, 8, 5, 1, 1] \n",
    "n=len(a)\n",
    "    \n",
    "def partition(a,low,high): \n",
    "    i = (low-1)\n",
    "    pivot = a[high]\n",
    "    for j in range(low , high): \n",
    "        if   a[j] <= pivot: \n",
    "            i = i+1 \n",
    "            a[i],a[j] = a[j],a[i] \n",
    "  \n",
    "    a[i+1],a[high] = a[high],a[i+1] \n",
    "    return(i+1) \n",
    "\n",
    "def Quick_Sort(a,low,high): \n",
    "    if low < high:\n",
    "        p = partition(a,low,high) \n",
    "        Quick_Sort(a, low, p-1) \n",
    "        Quick_Sort(a, p+1, high) \n",
    "        \n",
    "\n",
    "Quick_Sort(a,0,n-1)\n",
    "\n",
    "print (\"Sorted array is:\") \n",
    "for i in range(len(a)): \n",
    "    print (a[i], end=\" \")"
   ]
  },
  {
   "cell_type": "markdown",
   "metadata": {},
   "source": [
    "### Stable check - Quick Sort"
   ]
  },
  {
   "cell_type": "code",
   "execution_count": 2,
   "metadata": {},
   "outputs": [
    {
     "name": "stdout",
     "output_type": "stream",
     "text": [
      "Unsorted array and frequency of elements:\n",
      "[2, 2, 4, 2, 1, 8, 8, 5, 1, 1]\n",
      "[1, 2, 1, 3, 1, 1, 2, 1, 2, 3]\n",
      "\n",
      "Sorted array is:\n",
      "[1, 1, 1, 2, 2, 2, 4, 5, 8, 8]\n",
      "[1, 2, 3, 3, 1, 2, 1, 1, 1, 2]\n"
     ]
    }
   ],
   "source": [
    "a = [2, 2, 4, 2, 1, 8, 8, 5, 1, 1] \n",
    "n=len(a)\n",
    "\n",
    "traversed = []\n",
    "freq_us=[0,0,0,0,0,0,0,0,0,0]   #initialising frequency list with 0 values\n",
    "\n",
    "#-----\n",
    "#frequency-check\n",
    "for i in range(0, 10):   #traversing the original array\n",
    "    temp = a[i]   \n",
    "    traversed.append(temp)   #adding each visited element to traversed\n",
    "    count=0   \n",
    "    for j in range(len(traversed)):\n",
    "        if temp==traversed[j]:\n",
    "            count=count+1   #checking count of the visited element in traversed\n",
    "    freq_us[i]=count   #designating appearance frequency of element to its frequency position\n",
    "\n",
    "print(\"Unsorted array and frequency of elements:\")\n",
    "print(a)\n",
    "print(freq_us)\n",
    "\n",
    "freq_s=freq_us.copy()   #making a copy of the unsorted frequency list to frequency list with sorted values\n",
    "\n",
    "    \n",
    "def partition(a,low,high): \n",
    "    i = (low-1)\n",
    "    pivot = a[high]\n",
    "    for j in range(low , high): \n",
    "        if   a[j] <= pivot: \n",
    "            i = i+1 \n",
    "            a[i],a[j] = a[j],a[i] \n",
    "            freq_s[i], freq_s[j] = freq_s[j], freq_s[i]\n",
    "  \n",
    "    a[i+1],a[high] = a[high],a[i+1] \n",
    "    freq_s[i+1],freq_s[high] = freq_s[high], freq_s[i+1]\n",
    "    return(i+1) \n",
    "\n",
    "def Quick_Sort(a,low,high): \n",
    "    if low < high:\n",
    "        p = partition(a,low,high) \n",
    "        Quick_Sort(a, low, p-1) \n",
    "        Quick_Sort(a, p+1, high) \n",
    "        \n",
    "\n",
    "Quick_Sort(a,0,n-1)\n",
    "\n",
    "print()\n",
    "print (\"Sorted array is:\") \n",
    "print(a)\n",
    "print(freq_s)"
   ]
  },
  {
   "cell_type": "code",
   "execution_count": 3,
   "metadata": {},
   "outputs": [
    {
     "name": "stdout",
     "output_type": "stream",
     "text": [
      "Unsorted array and frequency of elements:\n",
      "[1, 7, 4, 2, 1, 8, 8, 5, 7, 1]\n",
      "[1, 1, 1, 1, 2, 1, 2, 1, 2, 3]\n",
      "\n",
      "Sorted array is:\n",
      "[1, 1, 1, 2, 4, 5, 7, 7, 8, 8]\n",
      "[1, 2, 3, 1, 1, 1, 2, 1, 2, 1]\n",
      "\n",
      "Unstable\n"
     ]
    }
   ],
   "source": [
    "a = [1, 7, 4, 2, 1, 8, 8, 5, 7, 1] \n",
    "n=len(a)\n",
    "\n",
    "traversed = []\n",
    "freq_us=[0,0,0,0,0,0,0,0,0,0]   #initialising frequency list with 0 values\n",
    "\n",
    "#-------------------\n",
    "#frequency-check\n",
    "#-------------------\n",
    "\n",
    "for i in range(0, 10):   #traversing the original array\n",
    "    temp = a[i]   \n",
    "    traversed.append(temp)   #adding each visited element to traversed\n",
    "    count=0   \n",
    "    for j in range(len(traversed)):\n",
    "        if temp==traversed[j]:\n",
    "            count=count+1   #checking count of the visited element in traversed\n",
    "    freq_us[i]=count   #designating appearance frequency of element to its frequency position\n",
    "\n",
    "print(\"Unsorted array and frequency of elements:\")\n",
    "print(a)\n",
    "print(freq_us)\n",
    "\n",
    "freq_s=freq_us.copy()   #making a copy of the unsorted frequency list to frequency list with sorted values\n",
    "\n",
    "#-----------\n",
    "#Quick-sort\n",
    "#-----------\n",
    "    \n",
    "def partition(a,low,high): \n",
    "    i = (low-1)\n",
    "    pivot = a[high]\n",
    "    for j in range(low , high): \n",
    "        if   a[j] <= pivot: \n",
    "            i = i+1 \n",
    "            a[i],a[j] = a[j],a[i] \n",
    "            freq_s[i], freq_s[j] = freq_s[j], freq_s[i]\n",
    "  \n",
    "    a[i+1],a[high] = a[high],a[i+1] \n",
    "    freq_s[i+1],freq_s[high] = freq_s[high], freq_s[i+1]\n",
    "    return(i+1) \n",
    "\n",
    "def Quick_Sort(a,low,high): \n",
    "    if low < high:\n",
    "        p = partition(a,low,high) \n",
    "        Quick_Sort(a, low, p-1) \n",
    "        Quick_Sort(a, p+1, high) \n",
    "        \n",
    "\n",
    "Quick_Sort(a,0,n-1)\n",
    "\n",
    "print()\n",
    "print (\"Sorted array is:\") \n",
    "print(a)\n",
    "print(freq_s)\n",
    "\n",
    "#---------------------\n",
    "#stability-check now\n",
    "#---------------------\n",
    "\n",
    "t=[]\n",
    "main_flag=0   #counts the number of times frequencies have deviated from ascending order\n",
    "\n",
    "for i in range(len(a)-1):   #traversing the length of the lsit-1\n",
    "    key=a[i]\n",
    "    freq_s_temp=[]   #temp list for storing frequencies of each unique sorted-list-element\n",
    "    t.append(key)   #adding each key to the list t that contains each element being traversed\n",
    "    if a[i]==a[i+1]:   #checking for occurrence of same element in the sorted list\n",
    "        count=0   \n",
    "        for k in range(len(t)):   \n",
    "            if key==t[k]:   #checking if traversed list contains key\n",
    "                count=count+1   \n",
    "        if count==1:   #this means it has been visited for the first time, more than 1 means we have already check frequency of this value         \n",
    "            for j in range(i, len(a)):\n",
    "                if key==a[j]:\n",
    "                    freq_s_temp.append(freq_s[j])   #creating sub_list of each unique sorted-list-element\n",
    "                                    \n",
    "                desc=0   #checking for ascending order in each sub_list\n",
    "                for m in range(len(freq_s_temp)-1):\n",
    "                    if freq_s_temp[m]>freq_s_temp[m+1]:\n",
    "                        desc=desc+1\n",
    "                if desc!=0:   #if any frequency-sub-list has the elements in descending order -> unstability\n",
    "                    main_flag=main_flag+1\n",
    "\n",
    "print()\n",
    "if main_flag==0:   #all frequency sub-lists are in ascending order\n",
    "    print(\"Stable\")\n",
    "else:\n",
    "    print(\"Unstable\")"
   ]
  }
 ],
 "metadata": {
  "kernelspec": {
   "display_name": "Python 3",
   "language": "python",
   "name": "python3"
  },
  "language_info": {
   "codemirror_mode": {
    "name": "ipython",
    "version": 3
   },
   "file_extension": ".py",
   "mimetype": "text/x-python",
   "name": "python",
   "nbconvert_exporter": "python",
   "pygments_lexer": "ipython3",
   "version": "3.8.0"
  }
 },
 "nbformat": 4,
 "nbformat_minor": 2
}
