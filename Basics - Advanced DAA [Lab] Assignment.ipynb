{
 "cells": [
  {
   "cell_type": "markdown",
   "metadata": {},
   "source": []
  },
  {
   "cell_type": "markdown",
   "metadata": {},
   "source": []
  },
  {
   "cell_type": "markdown",
   "metadata": {},
   "source": []
  },
  {
   "cell_type": "markdown",
   "metadata": {},
   "source": [
    "# Advanced Digital Analysis of Algorithms Lab\n",
    "\n",
    "-----\n",
    "\n",
    "### Assignments\n",
    "-----\n",
    "-----\n",
    "-----"
   ]
  },
  {
   "cell_type": "markdown",
   "metadata": {},
   "source": []
  },
  {
   "cell_type": "markdown",
   "metadata": {},
   "source": []
  },
  {
   "cell_type": "markdown",
   "metadata": {},
   "source": []
  },
  {
   "cell_type": "markdown",
   "metadata": {},
   "source": []
  },
  {
   "cell_type": "markdown",
   "metadata": {},
   "source": []
  },
  {
   "cell_type": "markdown",
   "metadata": {},
   "source": []
  },
  {
   "cell_type": "markdown",
   "metadata": {},
   "source": []
  },
  {
   "cell_type": "markdown",
   "metadata": {},
   "source": []
  },
  {
   "cell_type": "markdown",
   "metadata": {},
   "source": [
    "-----\n",
    "-----\n",
    "-----\n",
    "\n",
    "# Rounak Bose  \n",
    "### 191001303002  \n",
    "### MCS-1\n"
   ]
  },
  {
   "cell_type": "markdown",
   "metadata": {},
   "source": []
  },
  {
   "cell_type": "markdown",
   "metadata": {},
   "source": []
  },
  {
   "cell_type": "markdown",
   "metadata": {},
   "source": []
  },
  {
   "cell_type": "markdown",
   "metadata": {},
   "source": [
    "### 1. Print “Hello World!”"
   ]
  },
  {
   "cell_type": "code",
   "execution_count": 2,
   "metadata": {
    "scrolled": false
   },
   "outputs": [
    {
     "name": "stdout",
     "output_type": "stream",
     "text": [
      "Hello World\n"
     ]
    }
   ],
   "source": [
    "print (\"Hello World\")"
   ]
  },
  {
   "cell_type": "markdown",
   "metadata": {},
   "source": [
    "### 2. Add two numbers"
   ]
  },
  {
   "cell_type": "code",
   "execution_count": 1,
   "metadata": {
    "scrolled": true
   },
   "outputs": [
    {
     "name": "stdout",
     "output_type": "stream",
     "text": [
      "33\n",
      "36\n",
      "69.0\n"
     ]
    }
   ],
   "source": [
    "a=float(input())\n",
    "b=float(input())\n",
    "print(a+b)"
   ]
  },
  {
   "cell_type": "markdown",
   "metadata": {},
   "source": [
    "### 3. Calculate simple interest when user inputs time, rate and year"
   ]
  },
  {
   "cell_type": "code",
   "execution_count": 9,
   "metadata": {},
   "outputs": [
    {
     "name": "stdout",
     "output_type": "stream",
     "text": [
      "Enter p, r , t:\n",
      "1000\n",
      "10\n",
      "2\n",
      "SI =  200.0\n",
      "Amount =  1200.0\n"
     ]
    }
   ],
   "source": [
    "print(\"Enter p, r , t:\")\n",
    "p=float(input())\n",
    "r=float(input())\n",
    "t=float(input())\n",
    "i=float((p*r*t)/100)\n",
    "print(\"SI = \", i)\n",
    "print(\"Amount = \", (p+i))"
   ]
  },
  {
   "cell_type": "markdown",
   "metadata": {},
   "source": [
    "### 4. Calculate compound interest when user inputs time, rate (annually) and year"
   ]
  },
  {
   "cell_type": "code",
   "execution_count": 7,
   "metadata": {},
   "outputs": [
    {
     "name": "stdout",
     "output_type": "stream",
     "text": [
      "Enter p, r, t:\n",
      "1000\n",
      "10\n",
      "2\n",
      "CI =  210.00000000000023\n",
      "Amount =  1210.0000000000002\n"
     ]
    }
   ],
   "source": [
    "print(\"Enter p, r, t:\")\n",
    "p=float(input())\n",
    "r=float(input())\n",
    "t=float(input())\n",
    "a=p*((1+(r/100))**t)\n",
    "print(\"CI = \", (a-p))\n",
    "print(\"Amount = \", a)"
   ]
  },
  {
   "cell_type": "markdown",
   "metadata": {},
   "source": [
    "### 5. Calculate area of a circle, taking diameter as input"
   ]
  },
  {
   "cell_type": "code",
   "execution_count": 29,
   "metadata": {},
   "outputs": [
    {
     "name": "stdout",
     "output_type": "stream",
     "text": [
      "Enter diameter:\n",
      "20\n",
      "Area = 314.0\n"
     ]
    }
   ],
   "source": [
    "print(\"Enter diameter:\")\n",
    "d=float(input())\n",
    "r=d/2\n",
    "print(\"Area =\", 3.14*r*r)"
   ]
  },
  {
   "cell_type": "markdown",
   "metadata": {},
   "source": [
    "### 6. Take three sides of triangle and check whether triangle can be formed or not"
   ]
  },
  {
   "cell_type": "code",
   "execution_count": 12,
   "metadata": {
    "scrolled": true
   },
   "outputs": [
    {
     "name": "stdout",
     "output_type": "stream",
     "text": [
      "Enter 3 sides of triangle:\n",
      "10\n",
      "8\n",
      "17\n",
      "Triangle possible\n"
     ]
    }
   ],
   "source": [
    "print(\"Enter 3 sides of triangle:\")\n",
    "a=float(input())\n",
    "b=float(input())\n",
    "c=float(input())\n",
    "if a>(b+c) or b>(a+c) or c>(a+b):\n",
    "    print(\"Triangle not possible\")\n",
    "else:\n",
    "    print(\"Triangle possible\")"
   ]
  },
  {
   "cell_type": "markdown",
   "metadata": {},
   "source": [
    "##### Using function"
   ]
  },
  {
   "cell_type": "code",
   "execution_count": 13,
   "metadata": {},
   "outputs": [
    {
     "name": "stdout",
     "output_type": "stream",
     "text": [
      "10\n",
      "8\n",
      "17\n",
      "Triangle possible\n"
     ]
    }
   ],
   "source": [
    "def is_possible(a, b, c):    \n",
    "    if (a + b)>c or (a + c)>b or (b + c)>a: \n",
    "        return True\n",
    "    else: \n",
    "        return False        \n",
    "\n",
    "a=float(input())\n",
    "b=float(input())\n",
    "c=float(input())\n",
    "if is_possible(a, b, c): \n",
    "    print(\"Triangle possible\")  \n",
    "else: \n",
    "    print(\"Triangle not possible\")"
   ]
  },
  {
   "cell_type": "markdown",
   "metadata": {},
   "source": [
    "### 7. Find the roots of ax.x + bx + c = 0"
   ]
  },
  {
   "cell_type": "code",
   "execution_count": 25,
   "metadata": {},
   "outputs": [
    {
     "name": "stdout",
     "output_type": "stream",
     "text": [
      "Enter values of a, b and c: \n",
      "1\n",
      "-1\n",
      "-30\n",
      "The roots are  6.0  and  -5.0\n"
     ]
    }
   ],
   "source": [
    "from math import sqrt\n",
    "\n",
    "print(\"Enter values of a, b and c: \")\n",
    "a = float(input())\n",
    "b = float(input())\n",
    "c = float(input())\n",
    "\n",
    "r = b**2 - (4*a*c)\n",
    "\n",
    "if r > 0:\n",
    "    x1 = (((-b) + sqrt(r))/(2*a))     \n",
    "    x2 = (((-b) - sqrt(r))/(2*a))\n",
    "    print(\"The roots are \", x1, \" and \", x2)\n",
    "elif r == 0:\n",
    "    x = (-b) / 2*a\n",
    "    print(\"The roots are \", x, \" and \", x)\n",
    "else:\n",
    "    print(\"No roots, since the discriminant<0\")"
   ]
  },
  {
   "cell_type": "markdown",
   "metadata": {},
   "source": [
    "### 8.1. Consider three points (x1, y1); (x2, y2) and (x3, y3). Calculate the area of this triangle."
   ]
  },
  {
   "cell_type": "code",
   "execution_count": 27,
   "metadata": {
    "scrolled": true
   },
   "outputs": [
    {
     "name": "stdout",
     "output_type": "stream",
     "text": [
      "x1 : 10\n",
      "y1 : 10\n",
      "x2 : 24\n",
      "y2 : 20\n",
      "x3 : 30\n",
      "y3 : 33\n",
      "Area =  60.99999999999991\n"
     ]
    }
   ],
   "source": [
    "import math\n",
    "\n",
    "def dist(x_1, y_1, x_2, y_2):\n",
    "    l=math.sqrt((x_1-x_2)**2 + (y_1-y_2)**2)\n",
    "    return l\n",
    "\n",
    "x1=float(input(\"x1 : \"))\n",
    "y1=float(input(\"y1 : \"))\n",
    "x2=float(input(\"x2 : \"))\n",
    "y2=float(input(\"y2 : \"))\n",
    "x3=float(input(\"x3 : \"))\n",
    "y3=float(input(\"y3 : \"))\n",
    "\n",
    "side1=dist(x1, y1, x2, y2)\n",
    "side2=dist(x1, y1, x3, y3)\n",
    "side3=dist(x2, y2, x3, y3)\n",
    "semi_perimeter = (side1+side2+side3)/2\n",
    "a=math.sqrt(semi_perimeter*(semi_perimeter - side1)*(semi_perimeter - side2)*(semi_perimeter - side3))\n",
    "print(\"Area = \", a)"
   ]
  },
  {
   "cell_type": "markdown",
   "metadata": {},
   "source": [
    "### 8.2. Check whether it is a right-angled triangle or not."
   ]
  },
  {
   "cell_type": "code",
   "execution_count": 30,
   "metadata": {},
   "outputs": [
    {
     "name": "stdout",
     "output_type": "stream",
     "text": [
      "x1 : 10\n",
      "y1 : 10\n",
      "x2 : 24\n",
      "y2 : 20\n",
      "x3 : 30\n",
      "y3 : 33\n",
      "17.204650534085253   30.479501308256342   14.317821063276353\n",
      "Not right-angled triangle\n"
     ]
    }
   ],
   "source": [
    "def dist(x_1, y_1, x_2, y_2):\n",
    "    l=math.sqrt((x_1-x_2)**2 + (y_1-y_2)**2)\n",
    "    return l\n",
    "\n",
    "x1=float(input(\"x1 : \"))\n",
    "y1=float(input(\"y1 : \"))\n",
    "x2=float(input(\"x2 : \"))\n",
    "y2=float(input(\"y2 : \"))\n",
    "x3=float(input(\"x3 : \"))\n",
    "y3=float(input(\"y3 : \"))\n",
    "\n",
    "side1=dist(x1, y1, x2, y2)\n",
    "side2=dist(x1, y1, x3, y3)\n",
    "side3=dist(x2, y2, x3, y3)\n",
    "\n",
    "print(side1, \" \", side2, \" \", side3)\n",
    "\n",
    "if side1>side2 and side1>side3 and (side1**2==side2**2+side3**2):\n",
    "        print(\"Right-angled traingle\")\n",
    "elif side2>side1 and side2>side3 and (side2**2==side1**2+side3**2):\n",
    "        print(\"Right-angled traingle\")\n",
    "elif side3>side1 and side3>side2 and (side3**2==side1**2+side2**2):\n",
    "        print(\"Right-angled traingle\")\n",
    "else:\n",
    "    print(\"Not right-angled triangle\")"
   ]
  },
  {
   "cell_type": "markdown",
   "metadata": {},
   "source": [
    "### 9. Take marks of 5 subjects. Calculate percentage -\n",
    "\n",
    "Percentage > 90, Grade ‘O’ \n",
    "\n",
    "Percentage >= 80 and < 90, Grade 'E'\n",
    "\n",
    "Percentage >= 70 and < 80, Grade 'A'\n",
    "\n",
    "Percentage >= 60 and < 70, Grade 'B'\n",
    "\n",
    "Percentage >= 50 and < 60, Grade 'C'\n",
    "\n",
    "Percentage >= 40 and < 50, Grade 'D'\n",
    "\n",
    "Percentage < 40, ‘Failed’"
   ]
  },
  {
   "cell_type": "code",
   "execution_count": 34,
   "metadata": {},
   "outputs": [
    {
     "name": "stdout",
     "output_type": "stream",
     "text": [
      "subject 1 score = 42\n",
      "subject 2 score = 37\n",
      "subject 3 score = 36\n",
      "subject 4 score = 43\n",
      "subject 5 score = 40\n",
      "Failed\n"
     ]
    }
   ],
   "source": [
    "a=float(input(\"subject 1 score = \"))\n",
    "b=float(input(\"subject 2 score = \"))\n",
    "c=float(input(\"subject 3 score = \"))\n",
    "d=float(input(\"subject 4 score = \"))\n",
    "e=float(input(\"subject 5 score = \"))\n",
    "\n",
    "p=(a+b+c+d+e)/5\n",
    "if p>90:\n",
    "    print(\"O\")\n",
    "elif p>=80 and p<90:\n",
    "    print(\"E\")\n",
    "elif p>=70 and p<80:\n",
    "    print(\"A\")\n",
    "elif p>=60 and p<70:\n",
    "    print(\"B\")\n",
    "elif p>=50 and p<60:\n",
    "    print(\"C\")\n",
    "elif p>=40 and p<50:\n",
    "    print(\"D\")\n",
    "elif p<40:\n",
    "    print(\"Failed\")"
   ]
  },
  {
   "cell_type": "markdown",
   "metadata": {},
   "source": [
    "### 10. Take a number from user and check if it is an even number"
   ]
  },
  {
   "cell_type": "code",
   "execution_count": 36,
   "metadata": {},
   "outputs": [
    {
     "name": "stdout",
     "output_type": "stream",
     "text": [
      "40\n",
      "Even\n"
     ]
    }
   ],
   "source": [
    "n=float(input())\n",
    "if n%2==0:\n",
    "    print(\"Even\")\n",
    "else:\n",
    "    print(\"Odd\")"
   ]
  },
  {
   "cell_type": "markdown",
   "metadata": {},
   "source": [
    "### 11. Print all number between 1 and 20"
   ]
  },
  {
   "cell_type": "code",
   "execution_count": 44,
   "metadata": {},
   "outputs": [
    {
     "name": "stdout",
     "output_type": "stream",
     "text": [
      "1 2 3 4 5 6 7 8 9 10 11 12 13 14 15 16 17 18 19 20 "
     ]
    }
   ],
   "source": [
    "for i in range(1,21):\n",
    "    print(i, end=\" \")"
   ]
  },
  {
   "cell_type": "markdown",
   "metadata": {},
   "source": [
    "### 12. Print odd numbers between 1 to 20"
   ]
  },
  {
   "cell_type": "code",
   "execution_count": 45,
   "metadata": {},
   "outputs": [
    {
     "name": "stdout",
     "output_type": "stream",
     "text": [
      "1 3 5 7 9 11 13 15 17 19 "
     ]
    }
   ],
   "source": [
    "for i in range(1,21,2):\n",
    "    print(i, end=\" \")"
   ]
  },
  {
   "cell_type": "markdown",
   "metadata": {},
   "source": [
    "### 13. Check if the number is prime or not"
   ]
  },
  {
   "cell_type": "code",
   "execution_count": 58,
   "metadata": {},
   "outputs": [
    {
     "name": "stdout",
     "output_type": "stream",
     "text": [
      "Number = 2\n",
      "Prime Number\n"
     ]
    }
   ],
   "source": [
    "n=int(input(\"Number = \"))\n",
    "c=0\n",
    "for i in range(1, n+1):\n",
    "    if n%i==0:\n",
    "        c=c+1\n",
    "if c==2:\n",
    "    print(\"Prime Number\")\n",
    "else:\n",
    "    print(\"Composite Number\")"
   ]
  },
  {
   "cell_type": "markdown",
   "metadata": {},
   "source": [
    "### 14. Find the factorial of a number"
   ]
  },
  {
   "cell_type": "code",
   "execution_count": 61,
   "metadata": {},
   "outputs": [
    {
     "name": "stdout",
     "output_type": "stream",
     "text": [
      "Number = 5\n",
      "120\n"
     ]
    }
   ],
   "source": [
    "n=int(input(\"Number = \"))\n",
    "f=1\n",
    "for i in range(1, n+1):\n",
    "    f=f*i\n",
    "print(f)"
   ]
  },
  {
   "cell_type": "markdown",
   "metadata": {},
   "source": [
    "### 15. Print first 10 fibonacci number"
   ]
  },
  {
   "cell_type": "code",
   "execution_count": 69,
   "metadata": {},
   "outputs": [
    {
     "name": "stdout",
     "output_type": "stream",
     "text": [
      "0\n",
      "1\n",
      "1\n",
      "2\n",
      "3\n",
      "5\n",
      "8\n",
      "13\n",
      "21\n",
      "34\n"
     ]
    }
   ],
   "source": [
    "a,b=0,1\n",
    "print(a)\n",
    "print(b)\n",
    "for i in range(1,9):\n",
    "    c=a+b\n",
    "    print(c)\n",
    "    a=b\n",
    "    b=c"
   ]
  },
  {
   "cell_type": "markdown",
   "metadata": {},
   "source": [
    "### 16. Check whether the number is armstrong number or not (Eg: 153)"
   ]
  },
  {
   "cell_type": "code",
   "execution_count": 5,
   "metadata": {},
   "outputs": [
    {
     "name": "stdout",
     "output_type": "stream",
     "text": [
      "Number = 153\n",
      "Armstrong number\n"
     ]
    }
   ],
   "source": [
    "n=int(input(\"Number = \"))\n",
    "s=0\n",
    "t=n\n",
    "\n",
    "while t>0:\n",
    "    r=t%10\n",
    "    s+=r**3\n",
    "    t=t//10\n",
    "\n",
    "if n==s:\n",
    "    print(\"Armstrong number\")\n",
    "else:\n",
    "    print(\"Not an Armstrong number\")"
   ]
  },
  {
   "cell_type": "markdown",
   "metadata": {},
   "source": [
    "### 17. Print the all prime number between the given range"
   ]
  },
  {
   "cell_type": "code",
   "execution_count": 12,
   "metadata": {},
   "outputs": [
    {
     "name": "stdout",
     "output_type": "stream",
     "text": [
      "Lower bound = 5\n",
      "Upper bound = 35\n",
      "5 7 11 13 17 19 23 29 31 "
     ]
    }
   ],
   "source": [
    "l=int(input(\"Lower bound = \"))\n",
    "u=int(input(\"Upper bound = \"))\n",
    "\n",
    "for i in range(l,u+1):\n",
    "    c=0\n",
    "    for j in range(1, i+1):\n",
    "        if i%j==0:\n",
    "            c=c+1\n",
    "    if c==2:\n",
    "        print(i, end=\" \")"
   ]
  },
  {
   "cell_type": "markdown",
   "metadata": {},
   "source": [
    "### 18. Check whether the number is fibonacci number or not"
   ]
  },
  {
   "cell_type": "code",
   "execution_count": 19,
   "metadata": {},
   "outputs": [
    {
     "name": "stdout",
     "output_type": "stream",
     "text": [
      "Number = 34\n",
      "Fibonacci\n"
     ]
    }
   ],
   "source": [
    "#A number is Fibonacci if and only if one or both of (5*n2 + 4) or (5*n2 – 4) is a perfect square\n",
    "\n",
    "n=int(input(\"Number = \"))\n",
    "a=5*n*n+4\n",
    "b=5*n*n-4\n",
    "sra=a**0.5\n",
    "srb=b**0.5\n",
    "if sra**2==a or srb**2==b:\n",
    "    print(\"Fibonacci\")\n",
    "else:\n",
    "    print(\"Not a Fibonacci number\")"
   ]
  },
  {
   "cell_type": "markdown",
   "metadata": {},
   "source": [
    "### 19.1. Print:\n",
    "1  \n",
    "22  \n",
    "333  \n",
    "4444  \n",
    "55555  "
   ]
  },
  {
   "cell_type": "code",
   "execution_count": 21,
   "metadata": {},
   "outputs": [
    {
     "name": "stdout",
     "output_type": "stream",
     "text": [
      "Range = 5\n",
      "1 \n",
      "2 2 \n",
      "3 3 3 \n",
      "4 4 4 4 \n",
      "5 5 5 5 5 \n"
     ]
    }
   ],
   "source": [
    "n=int(input(\"Range = \"))\n",
    "for i in range(1, n+1):\n",
    "    for j in range(1, i+1):\n",
    "        print(i, end=\" \")\n",
    "    print()"
   ]
  },
  {
   "cell_type": "markdown",
   "metadata": {},
   "source": [
    "### 19.2. Print:    \n",
    "1   \n",
    "2 3   \n",
    "4 5 6    \n",
    "7 8 9 10   "
   ]
  },
  {
   "cell_type": "code",
   "execution_count": 22,
   "metadata": {},
   "outputs": [
    {
     "name": "stdout",
     "output_type": "stream",
     "text": [
      "Range = 5\n",
      "1 \n",
      "2 3 \n",
      "4 5 6 \n",
      "7 8 9 10 \n",
      "11 12 13 14 15 \n"
     ]
    }
   ],
   "source": [
    "n=int(input(\"Range = \"))\n",
    "k=1\n",
    "for i in range(1, n+1):\n",
    "    for j in range(1, i+1):\n",
    "        print(k, end=\" \")\n",
    "        k=k+1\n",
    "    print()"
   ]
  },
  {
   "cell_type": "markdown",
   "metadata": {},
   "source": [
    "### 19.3. Print:\n",
    "          *    \n",
    "        * *  \n",
    "      * * *  \n",
    "    * * * *  "
   ]
  },
  {
   "cell_type": "code",
   "execution_count": 45,
   "metadata": {},
   "outputs": [
    {
     "name": "stdout",
     "output_type": "stream",
     "text": [
      "        \n",
      "      * \n",
      "    * * \n",
      "  * * * \n",
      "* * * * \n"
     ]
    }
   ],
   "source": [
    "#Rough work - dry run\n",
    "#n=4\n",
    "for i in range(1, 6):\n",
    "    for j in range(6-i, 1, -1):\n",
    "        print(\" \", end=\" \")\n",
    "    for k in range(1, i):\n",
    "        print(\"*\", end=\" \")\n",
    "    print()"
   ]
  },
  {
   "cell_type": "code",
   "execution_count": 48,
   "metadata": {},
   "outputs": [
    {
     "name": "stdout",
     "output_type": "stream",
     "text": [
      "Range = 4\n",
      "        \n",
      "      * \n",
      "    * * \n",
      "  * * * \n",
      "* * * * \n"
     ]
    }
   ],
   "source": [
    "n=int(input(\"Range = \"))\n",
    "for i in range(1, n+2):\n",
    "    for j in range(n+2-i, 1, -1):\n",
    "        print(\" \", end=\" \")\n",
    "    for k in range(1, i):\n",
    "        print(\"*\", end=\" \")\n",
    "    print()"
   ]
  },
  {
   "cell_type": "markdown",
   "metadata": {},
   "source": [
    "### 20. Use lists to store the marks of 10 students and calculate their average"
   ]
  },
  {
   "cell_type": "code",
   "execution_count": 7,
   "metadata": {},
   "outputs": [
    {
     "name": "stdout",
     "output_type": "stream",
     "text": [
      "Student = 98\n",
      "Student = 96\n",
      "Student = 92\n",
      "Student = 92\n",
      "Student = 94\n",
      "Student = 95\n",
      "Student = 91\n",
      "Student = 90\n",
      "Student = 100\n",
      "Student = 97\n",
      "\n",
      "Average score =  94.5\n"
     ]
    }
   ],
   "source": [
    "l=[]\n",
    "s=0\n",
    "for i in range(1, 11):\n",
    "    n=int(input(\"Student = \"))\n",
    "    l.append(n)\n",
    "avg=sum(l)/len(l)\n",
    "print()\n",
    "print(\"Average score = \", avg)"
   ]
  },
  {
   "cell_type": "markdown",
   "metadata": {},
   "source": [
    "### 21. Implement linear search (using string data in the list)"
   ]
  },
  {
   "cell_type": "code",
   "execution_count": 5,
   "metadata": {},
   "outputs": [
    {
     "name": "stdout",
     "output_type": "stream",
     "text": [
      "Enter 5 names:\n",
      "aa\n",
      "bb\n",
      "cc\n",
      "dd\n",
      "ee\n",
      "Enter name you want to find:\n",
      "bb\n",
      "Found at position  2\n"
     ]
    }
   ],
   "source": [
    "l=[]\n",
    "print(\"Enter 5 names:\")\n",
    "for i in range(5):\n",
    "    name=input()\n",
    "    l.append(name)\n",
    "print(\"Enter name you want to find:\")\n",
    "n=input()\n",
    "c=0\n",
    "p=1\n",
    "for j in range(5):\n",
    "    if n==l[j]:\n",
    "        c=1\n",
    "        p=j+1\n",
    "if c==1:\n",
    "    print(\"Found at position \", p)\n",
    "else:\n",
    "    print(\"Not found!\")"
   ]
  },
  {
   "cell_type": "markdown",
   "metadata": {},
   "source": [
    "### 22. Matrix multiplication"
   ]
  },
  {
   "cell_type": "code",
   "execution_count": 3,
   "metadata": {},
   "outputs": [
    {
     "name": "stdout",
     "output_type": "stream",
     "text": [
      "[114, 160, 60, 27]\n",
      "[74, 97, 73, 14]\n",
      "[119, 157, 112, 23]\n"
     ]
    }
   ],
   "source": [
    "X = [[12,7,3], [4 ,5,6], [7 ,8,9]]\n",
    "Y = [[5,8,1,2], [6,7,3,0], [4,5,9,1]]\n",
    "result = [[0,0,0,0], [0,0,0,0], [0,0,0,0]]\n",
    "\n",
    "for i in range(len(X)):\n",
    "   for j in range(len(Y[0])):\n",
    "       for k in range(len(Y)):\n",
    "           result[i][j] += X[i][k] * Y[k][j]\n",
    "for r in result:\n",
    "   print(r)"
   ]
  },
  {
   "cell_type": "markdown",
   "metadata": {},
   "source": [
    "### 23. Sort a list of integer (using bubble sort)"
   ]
  },
  {
   "cell_type": "code",
   "execution_count": 4,
   "metadata": {},
   "outputs": [
    {
     "name": "stdout",
     "output_type": "stream",
     "text": [
      "Sorted array is:\n",
      "11\n",
      "12\n",
      "22\n",
      "25\n",
      "34\n",
      "64\n",
      "90\n"
     ]
    }
   ],
   "source": [
    "def bubbleSort(arr):\n",
    "    n = len(arr)\n",
    "    for i in range(n):\n",
    "         for j in range(0, n-i-1):\n",
    "            if arr[j] > arr[j+1] :\n",
    "                arr[j], arr[j+1] = arr[j+1], arr[j]\n",
    "arr = [64, 34, 25, 12, 22, 11, 90]\n",
    " bubbleSort(arr)\n",
    " print (\"Sorted array is:\")\n",
    "for i in range(len(arr)):\n",
    "    print (\"%d\" %arr[i]),"
   ]
  },
  {
   "cell_type": "markdown",
   "metadata": {},
   "source": [
    "### 24. Implement binary search(consider the list is already sorted)"
   ]
  },
  {
   "cell_type": "code",
   "execution_count": 12,
   "metadata": {},
   "outputs": [
    {
     "name": "stdout",
     "output_type": "stream",
     "text": [
      "Enter the sorted list of numbers: 4 5 6 7 8 9 10 11 12 13 14 15\n",
      "The number to search for: 13\n",
      "13 was found at position 10.\n"
     ]
    }
   ],
   "source": [
    "def binary_search(alist, key):\n",
    "    start = 0\n",
    "    end = len(alist)\n",
    "    while start < end:\n",
    "        mid = (start + end)//2\n",
    "        if alist[mid] > key:\n",
    "            end = mid\n",
    "        elif alist[mid] < key:\n",
    "            start = mid + 1\n",
    "        else:\n",
    "            return mid\n",
    "    return -1\n",
    "alist = input('Enter the sorted list of numbers: ')\n",
    "alist = alist.split()\n",
    "alist = [int(x) for x in alist]\n",
    "key = int(input('The number to search for: '))\n",
    "index = binary_search(alist, key)\n",
    "if index < 0:\n",
    "    print('{} was not found.'.format(key))\n",
    "else:\n",
    "    print('{} was found at position {}.'.format(key, index+1))"
   ]
  },
  {
   "cell_type": "markdown",
   "metadata": {},
   "source": [
    "---\n"
   ]
  }
 ],
 "metadata": {
  "kernelspec": {
   "display_name": "Python 3",
   "language": "python",
   "name": "python3"
  },
  "language_info": {
   "codemirror_mode": {
    "name": "ipython",
    "version": 3
   },
   "file_extension": ".py",
   "mimetype": "text/x-python",
   "name": "python",
   "nbconvert_exporter": "python",
   "pygments_lexer": "ipython3",
   "version": "3.8.0"
  }
 },
 "nbformat": 4,
 "nbformat_minor": 2
}
