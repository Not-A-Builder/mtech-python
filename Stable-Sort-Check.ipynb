{
 "cells": [
  {
   "cell_type": "markdown",
   "metadata": {},
   "source": [
    "### Insertion sort"
   ]
  },
  {
   "cell_type": "code",
   "execution_count": 59,
   "metadata": {},
   "outputs": [
    {
     "name": "stdout",
     "output_type": "stream",
     "text": [
      "Sorted array is:\n",
      "11 12 22 25 34 64 90 "
     ]
    }
   ],
   "source": [
    "def Insertion_Sort(a): \n",
    "    for i in range(1, len(a)): \n",
    "        temp=a[i] \n",
    "        j = i-1\n",
    "        while j >=0 and temp < a[j] : \n",
    "                a[j+1] = a[j] \n",
    "                j -= 1\n",
    "        a[j+1] = temp \n",
    "  \n",
    "a = [64, 34, 25, 12, 22, 11, 90] \n",
    "\n",
    "Insertion_Sort(a)\n",
    "\n",
    "print (\"Sorted array is:\") \n",
    "for i in range(len(a)): \n",
    "    print (a[i], end=\" \")"
   ]
  },
  {
   "cell_type": "code",
   "execution_count": 16,
   "metadata": {},
   "outputs": [
    {
     "name": "stdout",
     "output_type": "stream",
     "text": [
      "Sorted array is:\n",
      "11\n",
      "12\n",
      "22\n",
      "25\n",
      "34\n",
      "64\n",
      "90\n"
     ]
    }
   ],
   "source": [
    "def Insertion_Sort(a):\n",
    "    n = len(a)\n",
    "    for i in range(n):\n",
    "         for j in range(0, n-i-1):\n",
    "            if a[j] > a[j+1] :\n",
    "                a[j], a[j+1] = a[j+1], a[j]\n",
    "                \n",
    "a = [64, 34, 25, 12, 22, 11, 90]\n",
    "\n",
    "Insertion_Sort(a)\n",
    "print (\"Sorted array is:\")\n",
    "for i in range(len(a)):\n",
    "    print (a[i])"
   ]
  },
  {
   "cell_type": "code",
   "execution_count": 26,
   "metadata": {},
   "outputs": [
    {
     "name": "stdout",
     "output_type": "stream",
     "text": [
      "8\n",
      "\n",
      "5\n",
      "7\n",
      "9\n",
      "2\n",
      "4\n",
      "6\n",
      "8\n"
     ]
    }
   ],
   "source": [
    "a=[3, 5, 7, 9 ,2 ,4, 6, 8]\n",
    "print(len(a))\n",
    "print()\n",
    "for i in range(1,8):\n",
    "    print(a[i])"
   ]
  }
 ],
 "metadata": {
  "kernelspec": {
   "display_name": "Python 3",
   "language": "python",
   "name": "python3"
  },
  "language_info": {
   "codemirror_mode": {
    "name": "ipython",
    "version": 3
   },
   "file_extension": ".py",
   "mimetype": "text/x-python",
   "name": "python",
   "nbconvert_exporter": "python",
   "pygments_lexer": "ipython3",
   "version": "3.8.0"
  }
 },
 "nbformat": 4,
 "nbformat_minor": 2
}
