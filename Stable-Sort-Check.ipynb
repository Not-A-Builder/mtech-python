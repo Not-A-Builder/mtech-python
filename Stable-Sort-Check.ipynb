{
 "cells": [
  {
   "cell_type": "markdown",
   "metadata": {},
   "source": [
    "### Insertion sort"
   ]
  },
  {
   "cell_type": "code",
   "execution_count": 1,
   "metadata": {},
   "outputs": [
    {
     "name": "stdout",
     "output_type": "stream",
     "text": [
      "Sorted array is:\n",
      "11 12 22 25 34 64 90 "
     ]
    }
   ],
   "source": [
    "a = [64, 34, 25, 12, 22, 11, 90] \n",
    "    \n",
    "def Insertion_Sort(a): \n",
    "    for i in range(1, len(a)): \n",
    "        temp=a[i] \n",
    "        j = i-1\n",
    "        while j >=0 and temp < a[j] : \n",
    "                a[j+1] = a[j] \n",
    "                j -= 1\n",
    "        a[j+1] = temp\n",
    "        \n",
    "Insertion_Sort(a)\n",
    "\n",
    "print (\"Sorted array is:\") \n",
    "for i in range(len(a)): \n",
    "    print (a[i], end=\" \")"
   ]
  },
  {
   "cell_type": "markdown",
   "metadata": {},
   "source": [
    "### Quick Sort"
   ]
  },
  {
   "cell_type": "code",
   "execution_count": 2,
   "metadata": {
    "scrolled": true
   },
   "outputs": [
    {
     "name": "stdout",
     "output_type": "stream",
     "text": [
      "Sorted array is:\n",
      "4 10 77 88 99 201 535 921 "
     ]
    }
   ],
   "source": [
    "a = [10, 77, 88, 99, 201, 4, 921, 535] \n",
    "n=len(a)\n",
    "    \n",
    "def partition(a,low,high): \n",
    "    i = (low-1)\n",
    "    pivot = a[high]\n",
    "    for j in range(low , high): \n",
    "        if   a[j] <= pivot: \n",
    "            i = i+1 \n",
    "            a[i],a[j] = a[j],a[i] \n",
    "  \n",
    "    a[i+1],a[high] = a[high],a[i+1] \n",
    "    return(i+1) \n",
    "\n",
    "def Quick_Sort(a,low,high): \n",
    "    if low < high:\n",
    "        p = partition(a,low,high) \n",
    "        Quick_Sort(a, low, p-1) \n",
    "        Quick_Sort(a, p+1, high) \n",
    "        \n",
    "\n",
    "Quick_Sort(a,0,n-1)\n",
    "\n",
    "print (\"Sorted array is:\") \n",
    "for i in range(len(a)): \n",
    "    print (a[i], end=\" \")"
   ]
  },
  {
   "cell_type": "markdown",
   "metadata": {},
   "source": [
    "### Stable check - Insertion sort"
   ]
  },
  {
   "cell_type": "code",
   "execution_count": null,
   "metadata": {},
   "outputs": [],
   "source": [
    "a = [64, 34, 25, 12, 22, 11, 90] \n",
    "    \n",
    "def Insertion_Sort(a): \n",
    "    for i in range(1, len(a)): \n",
    "        temp=a[i] \n",
    "        j = i-1\n",
    "        while j >=0 and temp < a[j] : \n",
    "                a[j+1] = a[j] \n",
    "                j -= 1\n",
    "        a[j+1] = temp\n",
    "        \n",
    "Insertion_Sort(a)\n",
    "\n",
    "print (\"Sorted array is:\") \n",
    "for i in range(len(a)): \n",
    "    print (a[i], end=\" \")\n",
    "    \n"
   ]
  }
 ],
 "metadata": {
  "kernelspec": {
   "display_name": "Python 3",
   "language": "python",
   "name": "python3"
  },
  "language_info": {
   "codemirror_mode": {
    "name": "ipython",
    "version": 3
   },
   "file_extension": ".py",
   "mimetype": "text/x-python",
   "name": "python",
   "nbconvert_exporter": "python",
   "pygments_lexer": "ipython3",
   "version": "3.8.0"
  }
 },
 "nbformat": 4,
 "nbformat_minor": 2
}
