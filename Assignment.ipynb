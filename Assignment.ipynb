{
 "cells": [
  {
   "cell_type": "markdown",
   "metadata": {},
   "source": [
    "# Advanced DAA Lab (Python)  "
   ]
  },
  {
   "cell_type": "code",
   "execution_count": 1,
   "metadata": {},
   "outputs": [],
   "source": [
    "import math"
   ]
  },
  {
   "cell_type": "markdown",
   "metadata": {},
   "source": [
    "### 1. Print “Hello World!”"
   ]
  },
  {
   "cell_type": "code",
   "execution_count": 2,
   "metadata": {
    "scrolled": false
   },
   "outputs": [
    {
     "name": "stdout",
     "output_type": "stream",
     "text": [
      "Hello World\n"
     ]
    }
   ],
   "source": [
    "print (\"Hello World\")"
   ]
  },
  {
   "cell_type": "markdown",
   "metadata": {},
   "source": [
    "### 2. Add two numbers"
   ]
  },
  {
   "cell_type": "code",
   "execution_count": 1,
   "metadata": {
    "scrolled": true
   },
   "outputs": [
    {
     "name": "stdout",
     "output_type": "stream",
     "text": [
      "33\n",
      "36\n",
      "69.0\n"
     ]
    }
   ],
   "source": [
    "a=float(input())\n",
    "b=float(input())\n",
    "print(a+b)"
   ]
  },
  {
   "cell_type": "markdown",
   "metadata": {},
   "source": [
    "### 3. Calculate simple interest when user inputs time, rate and year"
   ]
  },
  {
   "cell_type": "code",
   "execution_count": 9,
   "metadata": {},
   "outputs": [
    {
     "name": "stdout",
     "output_type": "stream",
     "text": [
      "Enter p, r , t:\n",
      "1000\n",
      "10\n",
      "2\n",
      "SI =  200.0\n",
      "Amount =  1200.0\n"
     ]
    }
   ],
   "source": [
    "print(\"Enter p, r , t:\")\n",
    "p=float(input())\n",
    "r=float(input())\n",
    "t=float(input())\n",
    "i=float((p*r*t)/100)\n",
    "print(\"SI = \", i)\n",
    "print(\"Amount = \", (p+i))"
   ]
  },
  {
   "cell_type": "markdown",
   "metadata": {},
   "source": [
    "### 4. Calculate compound interest when user inputs time, rate (annually) and year"
   ]
  },
  {
   "cell_type": "code",
   "execution_count": 10,
   "metadata": {},
   "outputs": [
    {
     "name": "stdout",
     "output_type": "stream",
     "text": [
      "Enter p, r, t:\n",
      "1000\n",
      "10\n",
      "2\n",
      "Amount after CI =  1210.0000000000002\n",
      "CI =  210.00000000000023\n"
     ]
    }
   ],
   "source": [
    "print(\"Enter p, r, t:\")\n",
    "p=float(input())\n",
    "r=float(input())\n",
    "t=float(input())\n",
    "t1=float(1+(r/100))\n",
    "temp = float(pow(t1, t))\n",
    "a=float(p*temp)\n",
    "print(\"Amount after CI = \", a)\n",
    "print(\"CI = \", (a-p))"
   ]
  },
  {
   "cell_type": "markdown",
   "metadata": {},
   "source": [
    "### 5. Calculate area of a circle, taking diameter as input"
   ]
  },
  {
   "cell_type": "code",
   "execution_count": 29,
   "metadata": {},
   "outputs": [
    {
     "name": "stdout",
     "output_type": "stream",
     "text": [
      "Enter diameter:\n",
      "20\n",
      "Area = 314.0\n"
     ]
    }
   ],
   "source": [
    "print(\"Enter diameter:\")\n",
    "d=float(input())\n",
    "r=d/2\n",
    "print(\"Area =\", 3.14*r*r)"
   ]
  },
  {
   "cell_type": "markdown",
   "metadata": {},
   "source": [
    "### 6. Take three sides of triangle and check whether triangle can be formed or not"
   ]
  },
  {
   "cell_type": "code",
   "execution_count": 31,
   "metadata": {
    "scrolled": true
   },
   "outputs": [
    {
     "name": "stdout",
     "output_type": "stream",
     "text": [
      "Enter 3 sides of triangle:\n",
      "10\n",
      "20\n",
      "30\n",
      "30.0\n"
     ]
    }
   ],
   "source": [
    "print(\"Enter 3 sides of triangle:\")\n",
    "a=float(input())\n",
    "b=float(input())\n",
    "c=float(input())\n"
   ]
  },
  {
   "cell_type": "markdown",
   "metadata": {},
   "source": [
    "### 7. Find the roots of ax.x + bx + c = 0"
   ]
  },
  {
   "cell_type": "markdown",
   "metadata": {},
   "source": [
    "### 8.1. Consider three points (x1, y1); (x2, y2) and (x3, y3). Calculate the area of this triangle."
   ]
  },
  {
   "cell_type": "markdown",
   "metadata": {},
   "source": [
    "### 8.2. Check whether it is a right angle or not."
   ]
  },
  {
   "cell_type": "markdown",
   "metadata": {},
   "source": [
    "### 9. Take marks of 5 subjects. Calculate percentage -\n",
    "\n",
    "Percentage > 90, Grade ‘O’ \n",
    "\n",
    "Percentage >= 80 and < 90, Grade 'E'\n",
    "\n",
    "Percentage >= 70 and < 80, Grade 'A'\n",
    "\n",
    "Percentage >= 60 and < 70, Grade 'B'\n",
    "\n",
    "Percentage >= 50 and < 60, Grade 'C'\n",
    "\n",
    "Percentage >= 40 and < 50, Grade 'D'\n",
    "\n",
    "Percentage < 40, ‘Failed’"
   ]
  },
  {
   "cell_type": "markdown",
   "metadata": {},
   "source": [
    "### 10. Take a number from user and check if it is an even number"
   ]
  },
  {
   "cell_type": "markdown",
   "metadata": {},
   "source": [
    "### 11. Print all number between 1 and 20"
   ]
  },
  {
   "cell_type": "markdown",
   "metadata": {},
   "source": [
    "### 12. Print odd numbers between 1 to 20"
   ]
  },
  {
   "cell_type": "markdown",
   "metadata": {},
   "source": [
    "### 13. Check if the number is prime or not"
   ]
  },
  {
   "cell_type": "markdown",
   "metadata": {},
   "source": [
    "### 14. Find the factorial of a number"
   ]
  },
  {
   "cell_type": "markdown",
   "metadata": {},
   "source": [
    "### 15. Print first 10 fibonacci number"
   ]
  },
  {
   "cell_type": "markdown",
   "metadata": {},
   "source": [
    "### 16. Check whether the number is armstrong number or not (Eg: 153)"
   ]
  },
  {
   "cell_type": "markdown",
   "metadata": {},
   "source": [
    "### 17. Print the all prime number between the given range"
   ]
  },
  {
   "cell_type": "markdown",
   "metadata": {},
   "source": [
    "### 18. Check whether the number is fibonacci number or not"
   ]
  },
  {
   "cell_type": "markdown",
   "metadata": {},
   "source": [
    "### 19.1. Print:\n",
    "1  \n",
    "22  \n",
    "333  \n",
    "4444  \n",
    "55555  "
   ]
  },
  {
   "cell_type": "markdown",
   "metadata": {},
   "source": [
    "### 19.2. Print:    \n",
    "1   \n",
    "2 3   \n",
    "4 5 6    \n",
    "7 8 9 10   "
   ]
  },
  {
   "cell_type": "markdown",
   "metadata": {},
   "source": [
    "### 19.3. Print:\n",
    "          *    \n",
    "        * *  \n",
    "      * * *  \n",
    "    * * * *  "
   ]
  },
  {
   "cell_type": "markdown",
   "metadata": {},
   "source": [
    "### 20. Use lists to store the marks of 10 students and calculate their average"
   ]
  },
  {
   "cell_type": "markdown",
   "metadata": {},
   "source": [
    "### 21. Implement linear search (using string data in the list)"
   ]
  },
  {
   "cell_type": "markdown",
   "metadata": {},
   "source": [
    "### 22. Matrix multiplication"
   ]
  },
  {
   "cell_type": "markdown",
   "metadata": {},
   "source": [
    "### 23. Sort a list of integer (using bubble sort)"
   ]
  },
  {
   "cell_type": "markdown",
   "metadata": {},
   "source": [
    "### 24. Implement binary search(consider the list is already sorted)"
   ]
  },
  {
   "cell_type": "markdown",
   "metadata": {},
   "source": [
    "# . . ."
   ]
  }
 ],
 "metadata": {
  "kernelspec": {
   "display_name": "Python 3",
   "language": "python",
   "name": "python3"
  },
  "language_info": {
   "codemirror_mode": {
    "name": "ipython",
    "version": 3
   },
   "file_extension": ".py",
   "mimetype": "text/x-python",
   "name": "python",
   "nbconvert_exporter": "python",
   "pygments_lexer": "ipython3",
   "version": "3.8.0"
  }
 },
 "nbformat": 4,
 "nbformat_minor": 2
}
