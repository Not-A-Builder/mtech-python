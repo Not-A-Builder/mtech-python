{
 "cells": [
  {
   "cell_type": "code",
   "execution_count": 1,
   "metadata": {},
   "outputs": [],
   "source": [
    "import math"
   ]
  },
  {
   "cell_type": "code",
   "execution_count": 2,
   "metadata": {},
   "outputs": [
    {
     "name": "stdout",
     "output_type": "stream",
     "text": [
      "Hello World\n"
     ]
    }
   ],
   "source": [
    "print (\"Hello World\")"
   ]
  },
  {
   "cell_type": "code",
   "execution_count": 3,
   "metadata": {},
   "outputs": [
    {
     "name": "stdout",
     "output_type": "stream",
     "text": [
      "7\n"
     ]
    }
   ],
   "source": [
    "print(3+4)"
   ]
  },
  {
   "cell_type": "code",
   "execution_count": 9,
   "metadata": {},
   "outputs": [
    {
     "name": "stdout",
     "output_type": "stream",
     "text": [
      "Enter p, r , t:\n",
      "1000\n",
      "10\n",
      "2\n",
      "SI =  200.0\n",
      "Amount =  1200.0\n"
     ]
    }
   ],
   "source": [
    "print(\"Enter p, r , t:\")\n",
    "p=float(input())\n",
    "r=float(input())\n",
    "t=float(input())\n",
    "i=float((p*r*t)/100)\n",
    "print(\"SI = \", i)\n",
    "print(\"Amount = \", (p+i))"
   ]
  },
  {
   "cell_type": "code",
   "execution_count": 10,
   "metadata": {},
   "outputs": [
    {
     "name": "stdout",
     "output_type": "stream",
     "text": [
      "Enter p, r, t:\n",
      "1000\n",
      "10\n",
      "2\n",
      "Amount after CI =  1210.0000000000002\n",
      "CI =  210.00000000000023\n"
     ]
    }
   ],
   "source": [
    "print(\"Enter p, r, t:\")\n",
    "p=float(input())\n",
    "r=float(input())\n",
    "t=float(input())\n",
    "t1=float(1+(r/100))\n",
    "temp = float(pow(t1, t))\n",
    "a=float(p*temp)\n",
    "print(\"Amount after CI = \", a)\n",
    "print(\"CI = \", (a-p))"
   ]
  },
  {
   "cell_type": "code",
   "execution_count": 29,
   "metadata": {},
   "outputs": [
    {
     "name": "stdout",
     "output_type": "stream",
     "text": [
      "Enter diameter:\n",
      "20\n",
      "Area = 314.0\n"
     ]
    }
   ],
   "source": [
    "print(\"Enter diameter:\")\n",
    "d=float(input())\n",
    "r=d/2\n",
    "print(\"Area =\", 3.14*r*r)"
   ]
  },
  {
   "cell_type": "code",
   "execution_count": 31,
   "metadata": {},
   "outputs": [
    {
     "name": "stdout",
     "output_type": "stream",
     "text": [
      "Enter 3 sides of triangle:\n",
      "10\n",
      "20\n",
      "30\n",
      "30.0\n"
     ]
    }
   ],
   "source": [
    "print(\"Enter 3 sides of triangle:\")\n",
    "a=float(input())\n",
    "b=float(input())\n",
    "c=float(input())\n"
   ]
  },
  {
   "cell_type": "code",
   "execution_count": null,
   "metadata": {},
   "outputs": [],
   "source": [
    "print(\"Enter p, r, t:\")\n",
    "p=input()\n",
    "r=input()\n",
    "t=input()\n",
    "a=p*((1+(r/100))^t)\n",
    "print(\"Amount after CI = \", a)"
   ]
  },
  {
   "cell_type": "code",
   "execution_count": 6,
   "metadata": {},
   "outputs": [
    {
     "name": "stdout",
     "output_type": "stream",
     "text": [
      "64\n"
     ]
    }
   ],
   "source": [
    "a=8\n",
    "b=pow(a,2)\n",
    "print (b)"
   ]
  }
 ],
 "metadata": {
  "kernelspec": {
   "display_name": "Python 3",
   "language": "python",
   "name": "python3"
  },
  "language_info": {
   "codemirror_mode": {
    "name": "ipython",
    "version": 3
   },
   "file_extension": ".py",
   "mimetype": "text/x-python",
   "name": "python",
   "nbconvert_exporter": "python",
   "pygments_lexer": "ipython3",
   "version": "3.8.0"
  }
 },
 "nbformat": 4,
 "nbformat_minor": 2
}
