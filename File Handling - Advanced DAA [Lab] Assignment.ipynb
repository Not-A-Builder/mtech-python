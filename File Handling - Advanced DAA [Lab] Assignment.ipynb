{
 "cells": [
  {
   "cell_type": "markdown",
   "metadata": {},
   "source": [
    "## Rounak Bose\n",
    "##### M. Tech - Computer Science Engineering\n",
    "##### ID - 191001303002\n",
    "\n",
    "---"
   ]
  },
  {
   "cell_type": "markdown",
   "metadata": {},
   "source": [
    "### 25. Write a program to store the following details of the student.\n",
    "Student ID  \n",
    "Name\n",
    "#### Keep the record on run time and search the student by: (a) Student ID and (b) Name"
   ]
  },
  {
   "cell_type": "code",
   "execution_count": 5,
   "metadata": {},
   "outputs": [
    {
     "name": "stdout",
     "output_type": "stream",
     "text": [
      "ID = 191001303001\n",
      "Name = SD\n",
      "ID = 191001303002\n",
      "Name = RB\n",
      "ID = 191001303003\n",
      "Name = PH\n",
      "ID to search = 191001303002\n",
      "191001303002  is  RB\n",
      "Name to search = SD\n",
      "SD  has ID  191001303001\n"
     ]
    }
   ],
   "source": [
    "iden = []\n",
    "name = []\n",
    "for i in range (3):\n",
    "    id_temp=int(input(\"ID = \"))\n",
    "    iden.append(id_temp)\n",
    "    n=input(\"Name = \")\n",
    "    name.append(n)\n",
    "    \n",
    "s_iden = int(input(\"ID to search = \"))\n",
    "for i in range (3):\n",
    "    if (iden[i]==s_iden):\n",
    "        print(s_iden, \" is \", name[i])\n",
    "\n",
    "s_name = input(\"Name to search = \")\n",
    "for i in range (3):\n",
    "    if (name[i]==s_name):\n",
    "        print(s_name, \" has ID \", iden[i])\n"
   ]
  },
  {
   "cell_type": "code",
   "execution_count": null,
   "metadata": {},
   "outputs": [],
   "source": [
    "# empty dictionary\n",
    "my_dict = {}\n",
    "\n",
    "# dictionary with integer keys\n",
    "my_dict = {1: 'apple', 2: 'ball'}\n",
    "\n",
    "# dictionary with mixed keys\n",
    "my_dict = {'name': 'John', 1: [2, 4, 3]}\n",
    "\n",
    "# using dict()\n",
    "my_dict = dict({1:'apple', 2:'ball'})\n",
    "\n",
    "# from sequence having each item as a pair\n",
    "my_dict = dict([(1,'apple'), (2,'ball')])\n",
    "\n",
    "my_dict = {'name':'Jack', 'age': 26}\n",
    "\n",
    "# Output: Jack\n",
    "print(my_dict['name'])\n",
    "\n",
    "# Output: 26\n",
    "print(my_dict.get('age'))"
   ]
  },
  {
   "cell_type": "code",
   "execution_count": 1,
   "metadata": {},
   "outputs": [
    {
     "name": "stdout",
     "output_type": "stream",
     "text": [
      "{'a': 90, 'b': 95, 'c': 88, 'd': 92, 'e': 100}\n"
     ]
    }
   ],
   "source": [
    "d = dict([('a', 90), ('b', 95), ('c', 88), ('d', 92), ('e', 100)])\n",
    "print(d)"
   ]
  },
  {
   "cell_type": "markdown",
   "metadata": {},
   "source": [
    "### 26. Implement all the programs of the list using tuples"
   ]
  },
  {
   "cell_type": "code",
   "execution_count": null,
   "metadata": {},
   "outputs": [],
   "source": []
  },
  {
   "cell_type": "markdown",
   "metadata": {},
   "source": [
    "### 27. Create two sets of Student ID where one will keep members of the cultural committee and another will keep members of the sports committee.\n",
    "Implement the various basic operations of set  \n",
    "(a) Union  \n",
    "(b) Intersection  \n",
    "(c) Difference  "
   ]
  },
  {
   "cell_type": "code",
   "execution_count": null,
   "metadata": {},
   "outputs": [],
   "source": []
  },
  {
   "cell_type": "markdown",
   "metadata": {},
   "source": [
    "# File Handling"
   ]
  },
  {
   "cell_type": "markdown",
   "metadata": {},
   "source": [
    "### 28. Read the following file and extract the unique node ID in the file and make a set of that."
   ]
  },
  {
   "cell_type": "code",
   "execution_count": null,
   "metadata": {},
   "outputs": [],
   "source": []
  },
  {
   "cell_type": "markdown",
   "metadata": {},
   "source": [
    "### 29. List the node ID which are of degree 3"
   ]
  },
  {
   "cell_type": "code",
   "execution_count": null,
   "metadata": {},
   "outputs": [],
   "source": []
  },
  {
   "cell_type": "markdown",
   "metadata": {},
   "source": [
    "### 30. Write in another file, the node ID's which are connected to a given node ID"
   ]
  },
  {
   "cell_type": "code",
   "execution_count": null,
   "metadata": {},
   "outputs": [],
   "source": []
  },
  {
   "cell_type": "markdown",
   "metadata": {},
   "source": [
    "### 31. Identify those edges whose 'FromNodeID' starting with \"990\""
   ]
  },
  {
   "cell_type": "code",
   "execution_count": null,
   "metadata": {},
   "outputs": [],
   "source": []
  },
  {
   "cell_type": "markdown",
   "metadata": {},
   "source": [
    "---"
   ]
  },
  {
   "cell_type": "code",
   "execution_count": 5,
   "metadata": {
    "scrolled": true
   },
   "outputs": [
    {
     "name": "stdout",
     "output_type": "stream",
     "text": [
      "\n",
      "\n",
      "Hello Rounak.\n",
      "\n",
      "Hello again!\n",
      "\n",
      "Hello there!\n",
      "\n",
      "Hi!\n"
     ]
    }
   ],
   "source": [
    "# Basic file handling - READ\n",
    "\n",
    "file = open('demo-1.txt', 'r') \n",
    "# This will print every line one by one in the file \n",
    "for each in file: \n",
    "    print (each) \n",
    "file.close()"
   ]
  },
  {
   "cell_type": "code",
   "execution_count": 30,
   "metadata": {},
   "outputs": [
    {
     "name": "stdout",
     "output_type": "stream",
     "text": [
      "This is the write command. \n",
      "\n",
      "It allows us to write in a particular file\n"
     ]
    }
   ],
   "source": [
    "# Basic file handling - WRITE\n",
    "\n",
    "# write to new line using \"\\n\" at the end of the statement to be written\n",
    "\n",
    "file = open('demo-2.txt','w') \n",
    "file.write(\"This is the write command. \\n\") \n",
    "file.write(\"It allows us to write in a particular file\") \n",
    "file.close()\n",
    "\n",
    "file = open('demo-2.txt', 'r')\n",
    "for each in file:\n",
    "    print(each)\n",
    "file.close()"
   ]
  },
  {
   "cell_type": "code",
   "execution_count": 22,
   "metadata": {},
   "outputs": [
    {
     "name": "stdout",
     "output_type": "stream",
     "text": [
      "New file created!\n"
     ]
    }
   ],
   "source": [
    "# CREATE a file - writing to it - reading the new file\n",
    "\n",
    "file = open('demo-3.txt', 'x')\n",
    "file.close()\n",
    "\n",
    "file = open('demo-3.txt', 'w')\n",
    "file.write(\"New file created!\")\n",
    "file.close()\n",
    "\n",
    "file = open('demo-3.txt', 'r')\n",
    "for each in file:\n",
    "    print(each)\n",
    "file.close()"
   ]
  },
  {
   "cell_type": "code",
   "execution_count": 24,
   "metadata": {},
   "outputs": [
    {
     "name": "stdout",
     "output_type": "stream",
     "text": [
      "New file created! Working fine till here!\n"
     ]
    }
   ],
   "source": [
    "# APPEND a file\n",
    "\n",
    "file = open('demo-3.txt', 'a')\n",
    "file.write(\" Working fine till here!\")\n",
    "file.close()\n",
    "\n",
    "file = open('demo-3.txt', 'r')\n",
    "for each in file:\n",
    "    print(each)\n",
    "file.close()"
   ]
  },
  {
   "cell_type": "code",
   "execution_count": 28,
   "metadata": {},
   "outputs": [],
   "source": [
    "# DELETE  a file\n",
    "\n",
    "#file = open('demo-4.txt', 'x')\n",
    "#file.close()\n",
    "\n",
    "#import os\n",
    "#os.remove(\"demo-4.txt\")"
   ]
  },
  {
   "cell_type": "code",
   "execution_count": 27,
   "metadata": {},
   "outputs": [],
   "source": []
  }
 ],
 "metadata": {
  "kernelspec": {
   "display_name": "Python 3",
   "language": "python",
   "name": "python3"
  },
  "language_info": {
   "codemirror_mode": {
    "name": "ipython",
    "version": 3
   },
   "file_extension": ".py",
   "mimetype": "text/x-python",
   "name": "python",
   "nbconvert_exporter": "python",
   "pygments_lexer": "ipython3",
   "version": "3.8.0"
  }
 },
 "nbformat": 4,
 "nbformat_minor": 2
}
